{
  "cells": [
    {
      "cell_type": "markdown",
      "metadata": {
        "id": "GsDeIyIkgdZY"
      },
      "source": [
        "# Titanic Data Mining Lesson: Evaluating a Random Forest Model\n",
        "\n",
        "In this lesson, you will evaluate the performance of a Random Forest classifier on the Titanic dataset. The goal is to understand key evaluation metrics: **confusion matrix**, **accuracy**, **precision**, **recall**, **F1 score**, and **AUC**."
      ]
    },
    {
      "cell_type": "markdown",
      "metadata": {
        "id": "cZ4z09ORgdZb"
      },
      "source": [
        "## Step 1: Import Libraries"
      ]
    },
    {
      "cell_type": "code",
      "execution_count": 1,
      "metadata": {
        "id": "SHPxi3zegdZb"
      },
      "outputs": [],
      "source": [
        "import pandas as pd\n",
        "import seaborn as sns\n",
        "import matplotlib.pyplot as plt\n",
        "from sklearn.model_selection import train_test_split\n",
        "from sklearn.ensemble import RandomForestClassifier\n",
        "from sklearn.metrics import confusion_matrix, classification_report, roc_auc_score, roc_curve"
      ]
    },
    {
      "cell_type": "markdown",
      "metadata": {
        "id": "Sb5tOcOigdZc"
      },
      "source": [
        "## Step 2: Load and Prepare Titanic Data"
      ]
    },
    {
      "cell_type": "code",
      "execution_count": 3,
      "metadata": {
        "id": "JIfRqSe1gdZc"
      },
      "outputs": [],
      "source": [
        "# Load Titanic dataset\n",
        "df = sns.load_dataset(\"titanic\").dropna(subset=['age', 'embarked', 'sex'])\n",
        "\n",
        "# Encode categorical variables\n",
        "df['sex'] = df['sex'].map({'male': 0, 'female': 1})\n",
        "df['embarked'] = df['embarked'].map({'S': 0, 'C': 1, 'Q': 2})\n",
        "\n",
        "# Features and target\n",
        "X = df[['pclass', 'age', 'sex', 'fare', 'embarked']]\n",
        "y = df['survived']"
      ]
    },
    {
      "cell_type": "markdown",
      "metadata": {
        "id": "4OmjnnMYgdZc"
      },
      "source": [
        "## Step 3 Define New Target — fare_level"
      ]
    },
    {
      "cell_type": "code",
      "execution_count": 12,
      "metadata": {
        "id": "WnkYv7zdgdZd"
      },
      "outputs": [],
      "source": [
        "from sklearn.preprocessing import LabelEncoder\n",
        "\n",
        "# Create a new target: fare_level (low, medium, high)\n",
        "df['fare_level'] = pd.qcut(df['fare'], q=3, labels=['low', 'medium', 'high'])\n",
        "\n",
        "# Encode fare_level to numeric\n",
        "le = LabelEncoder()\n",
        "df['fare_level_encoded'] = le.fit_transform(df['fare_level'])\n",
        "\n",
        "# Set new target\n",
        "y_new = df['fare_level_encoded']\n"
      ]
    },
    {
      "cell_type": "markdown",
      "metadata": {
        "id": "JkrLa1MigdZd"
      },
      "source": [
        "##  step 4: Define Feature Set X\n",
        "\n",
        "\n"
      ]
    },
    {
      "cell_type": "code",
      "source": [
        "# Reuse or modify features\n",
        "X = df[['pclass', 'age', 'sex', 'embarked']]"
      ],
      "metadata": {
        "id": "zmo6kzQuUxY4"
      },
      "execution_count": 13,
      "outputs": []
    },
    {
      "cell_type": "markdown",
      "source": [
        "## #Step 5: Train and Evaluate New Random Forest Model\n"
      ],
      "metadata": {
        "id": "mwlhlLAKVVul"
      }
    },
    {
      "cell_type": "code",
      "execution_count": 14,
      "metadata": {
        "id": "7sfP3By7gdZd"
      },
      "outputs": [],
      "source": [
        "#Step 5: Train and Evaluate New Random Forest Model\n",
        " # Split the data\n",
        "X_train, X_test, y_train, y_test = train_test_split(X, y_new, test_size=0.3, random_state=42)\n",
        "\n",
        "# Train the model\n",
        "model = RandomForestClassifier(random_state=42)\n",
        "model.fit(X_train, y_train)\n",
        "\n",
        "# Predictions\n",
        "y_pred = model.predict(X_test)\n"
      ]
    },
    {
      "cell_type": "code",
      "source": [
        "# Accuracy\n",
        "from sklearn.metrics import accuracy_score\n",
        "accuracy = accuracy_score(y_test, y_pred)\n",
        "print(\"Accuracy:\", accuracy)\n",
        "\n",
        "# Confusion Matrix\n",
        "print(\"Confusion Matrix:\")\n",
        "print(confusion_matrix(y_test, y_pred))\n",
        "\n",
        "# Classification Report\n",
        "print(\"Classification Report:\")\n",
        "print(classification_report(y_test, y_pred))\n",
        "\n",
        "# Feature Importance\n",
        "importances = pd.Series(model.feature_importances_, index=X.columns)\n",
        "importances.sort_values().plot(kind='barh', title='Feature Importances')\n",
        "plt.tight_layout()\n",
        "plt.show()\n"
      ],
      "metadata": {
        "id": "1ihUanc5U6YT",
        "outputId": "4a1940a5-93cd-4e6e-9a2a-53a0ad910a69",
        "colab": {
          "base_uri": "https://localhost:8080/",
          "height": 765
        }
      },
      "execution_count": 17,
      "outputs": [
        {
          "output_type": "stream",
          "name": "stdout",
          "text": [
            "Accuracy: 0.7476635514018691\n",
            "Confusion Matrix:\n",
            "[[54  7 16]\n",
            " [ 2 61  4]\n",
            " [10 15 45]]\n",
            "Classification Report:\n",
            "              precision    recall  f1-score   support\n",
            "\n",
            "           0       0.82      0.70      0.76        77\n",
            "           1       0.73      0.91      0.81        67\n",
            "           2       0.69      0.64      0.67        70\n",
            "\n",
            "    accuracy                           0.75       214\n",
            "   macro avg       0.75      0.75      0.75       214\n",
            "weighted avg       0.75      0.75      0.74       214\n",
            "\n"
          ]
        },
        {
          "output_type": "display_data",
          "data": {
            "text/plain": [
              "<Figure size 640x480 with 1 Axes>"
            ],
            "image/png": "[encoded data removed]"
          },
          "metadata": {}
        }
      ]
    },
    {
      "cell_type": "markdown",
      "metadata": {
        "id": "Y5_tMxEYgdZd"
      },
      "source": [
        "## Step 6:  Add Markdown Cell for Reflection\n"
      ]
    },
    {
      "cell_type": "markdown",
      "source": [
        "### Model Evaluation\n",
        "\n",
        "a) What do you notice about accuracy, feature importance, or confusion matrix?\n",
        "- The accuracy of the model using `fare_level` as the target is approximately XX% (fill in based on output).  \n",
        "- The most important feature was [age/pclass/sex/etc.].  \n",
        "- The confusion matrix shows how well the model distinguishes between low, medium, and high fare levels. Misclassifications mostly occur between neighboring categories (e.g., medium vs. high).\n",
        "\n",
        "b) Which model is better and why?\n",
        "\n",
        "- The original model predicting `survived` may be better for life-saving predictions.\n",
        "- The new model predicting `fare_level` is useful for socioeconomic analysis and pricing insights.\n",
        "- The \"better\" model depends on the use case: survival-focused → original; business analytics → new.\n"
      ],
      "metadata": {
        "id": "vDJ4FLX5o6kP"
      }
    }
  ],
  "metadata": {
    "kernelspec": {
      "display_name": "Python 3",
      "language": "python",
      "name": "python3"
    },
    "language_info": {
      "name": "python",
      "version": ""
    },
    "colab": {
      "provenance": []
    }
  },
  "nbformat": 4,
  "nbformat_minor": 0
}